{
 "cells": [
  {
   "cell_type": "code",
   "execution_count": 2,
   "metadata": {},
   "outputs": [],
   "source": [
    "import keras"
   ]
  },
  {
   "cell_type": "code",
   "execution_count": 3,
   "metadata": {},
   "outputs": [],
   "source": [
    "from keras.datasets import fashion_mnist\n",
    "\n",
    "(x_train, y_train), (x_test, y_test) = fashion_mnist.load_data()"
   ]
  },
  {
   "cell_type": "code",
   "execution_count": 4,
   "metadata": {},
   "outputs": [
    {
     "data": {
      "text/plain": [
       "(60000, 28, 28)"
      ]
     },
     "execution_count": 4,
     "metadata": {},
     "output_type": "execute_result"
    }
   ],
   "source": [
    "x_train.shape"
   ]
  },
  {
   "cell_type": "code",
   "execution_count": 5,
   "metadata": {},
   "outputs": [
    {
     "data": {
      "text/plain": [
       "(60000,)"
      ]
     },
     "execution_count": 5,
     "metadata": {},
     "output_type": "execute_result"
    }
   ],
   "source": [
    "y_train.shape"
   ]
  },
  {
   "cell_type": "code",
   "execution_count": 6,
   "metadata": {},
   "outputs": [
    {
     "data": {
      "text/plain": [
       "array([0, 0, 3, 0, 2, 7, 2, 5, 5], dtype=uint8)"
      ]
     },
     "execution_count": 6,
     "metadata": {},
     "output_type": "execute_result"
    }
   ],
   "source": [
    "y_train[1:10]"
   ]
  },
  {
   "cell_type": "code",
   "execution_count": 7,
   "metadata": {},
   "outputs": [],
   "source": [
    "from keras.utils import to_categorical"
   ]
  },
  {
   "cell_type": "code",
   "execution_count": 8,
   "metadata": {},
   "outputs": [],
   "source": [
    "y_train=to_categorical(y_train)\n",
    "y_test=to_categorical(y_test)"
   ]
  },
  {
   "cell_type": "code",
   "execution_count": 9,
   "metadata": {},
   "outputs": [],
   "source": [
    "from keras.models import Sequential\n",
    "from keras.layers import Conv2D\n",
    "from keras.layers import Dropout\n",
    "from keras.layers import MaxPooling2D\n",
    "from keras.layers import Dense\n",
    "from keras.layers import Flatten"
   ]
  },
  {
   "cell_type": "code",
   "execution_count": 10,
   "metadata": {},
   "outputs": [
    {
     "data": {
      "text/plain": [
       "<keras.regularizers.L1L2 at 0x234ca677d30>"
      ]
     },
     "execution_count": 10,
     "metadata": {},
     "output_type": "execute_result"
    }
   ],
   "source": [
    "from keras.regularizers import l2\n",
    "l2()"
   ]
  },
  {
   "cell_type": "code",
   "execution_count": 11,
   "metadata": {},
   "outputs": [],
   "source": [
    "x_train = x_train /255"
   ]
  },
  {
   "cell_type": "code",
   "execution_count": 12,
   "metadata": {},
   "outputs": [],
   "source": [
    "x_test = x_test /255"
   ]
  },
  {
   "cell_type": "code",
   "execution_count": 13,
   "metadata": {},
   "outputs": [],
   "source": [
    "x_train=x_train.reshape(x_train.shape[0],28,28,1)\n",
    "x_test=x_test.reshape(x_test.shape[0],28,28,1)"
   ]
  },
  {
   "cell_type": "code",
   "execution_count": 14,
   "metadata": {},
   "outputs": [],
   "source": [
    "model=Sequential()"
   ]
  },
  {
   "cell_type": "code",
   "execution_count": 15,
   "metadata": {},
   "outputs": [],
   "source": [
    "model.add(Conv2D(activation=\"relu\",filters=32,strides=1,padding=\"same\",kernel_size=(3,3),input_shape=(28,28,1)))\n",
    "model.add(MaxPooling2D(pool_size=(2,2)))\n",
    "model.add(Dropout(rate=0.2))\n",
    "model.add(Conv2D(activation=\"relu\",filters=26,strides=1,padding=\"same\",kernel_size=(3,3)))\n",
    "model.add(MaxPooling2D(pool_size=(2,2)))\n",
    "model.add(Flatten())\n",
    "model.add(Dropout(rate=0.2))\n",
    "model.add(Dense(activation=\"relu\",units=24))\n",
    "model.add(Dense(activation=\"softmax\",units=10))"
   ]
  },
  {
   "cell_type": "code",
   "execution_count": 16,
   "metadata": {},
   "outputs": [
    {
     "name": "stdout",
     "output_type": "stream",
     "text": [
      "_________________________________________________________________\n",
      "Layer (type)                 Output Shape              Param #   \n",
      "=================================================================\n",
      "conv2d_1 (Conv2D)            (None, 28, 28, 32)        320       \n",
      "_________________________________________________________________\n",
      "max_pooling2d_1 (MaxPooling2 (None, 14, 14, 32)        0         \n",
      "_________________________________________________________________\n",
      "dropout_1 (Dropout)          (None, 14, 14, 32)        0         \n",
      "_________________________________________________________________\n",
      "conv2d_2 (Conv2D)            (None, 14, 14, 26)        7514      \n",
      "_________________________________________________________________\n",
      "max_pooling2d_2 (MaxPooling2 (None, 7, 7, 26)          0         \n",
      "_________________________________________________________________\n",
      "flatten_1 (Flatten)          (None, 1274)              0         \n",
      "_________________________________________________________________\n",
      "dropout_2 (Dropout)          (None, 1274)              0         \n",
      "_________________________________________________________________\n",
      "dense_1 (Dense)              (None, 24)                30600     \n",
      "_________________________________________________________________\n",
      "dense_2 (Dense)              (None, 10)                250       \n",
      "=================================================================\n",
      "Total params: 38,684\n",
      "Trainable params: 38,684\n",
      "Non-trainable params: 0\n",
      "_________________________________________________________________\n"
     ]
    }
   ],
   "source": [
    "model.summary()"
   ]
  },
  {
   "cell_type": "code",
   "execution_count": 17,
   "metadata": {},
   "outputs": [],
   "source": [
    "model.compile(optimizer=\"adam\",loss=\"categorical_crossentropy\",metrics=['accuracy'])"
   ]
  },
  {
   "cell_type": "code",
   "execution_count": 18,
   "metadata": {},
   "outputs": [],
   "source": [
    "from keras.callbacks import EarlyStopping"
   ]
  },
  {
   "cell_type": "code",
   "execution_count": 19,
   "metadata": {},
   "outputs": [],
   "source": [
    "Early=[EarlyStopping(patience=3)]"
   ]
  },
  {
   "cell_type": "code",
   "execution_count": 20,
   "metadata": {},
   "outputs": [
    {
     "name": "stdout",
     "output_type": "stream",
     "text": [
      "Train on 48000 samples, validate on 12000 samples\n",
      "Epoch 1/30\n",
      "48000/48000 [==============================] - 72s 2ms/step - loss: 0.5721 - acc: 0.7920 - val_loss: 0.3893 - val_acc: 0.8592\n",
      "Epoch 2/30\n",
      "48000/48000 [==============================] - 11s 238us/step - loss: 0.3836 - acc: 0.8633 - val_loss: 0.3327 - val_acc: 0.8845\n",
      "Epoch 3/30\n",
      "48000/48000 [==============================] - 11s 236us/step - loss: 0.3398 - acc: 0.8782 - val_loss: 0.3005 - val_acc: 0.8911\n",
      "Epoch 4/30\n",
      "48000/48000 [==============================] - 11s 234us/step - loss: 0.3089 - acc: 0.8880 - val_loss: 0.2825 - val_acc: 0.8984\n",
      "Epoch 5/30\n",
      "48000/48000 [==============================] - 11s 235us/step - loss: 0.2894 - acc: 0.8954 - val_loss: 0.2624 - val_acc: 0.9038\n",
      "Epoch 6/30\n",
      "48000/48000 [==============================] - 11s 233us/step - loss: 0.2682 - acc: 0.9020 - val_loss: 0.2510 - val_acc: 0.9087\n",
      "Epoch 7/30\n",
      "48000/48000 [==============================] - 11s 232us/step - loss: 0.2587 - acc: 0.9048 - val_loss: 0.2512 - val_acc: 0.9076\n",
      "Epoch 8/30\n",
      "48000/48000 [==============================] - 11s 234us/step - loss: 0.2465 - acc: 0.9087 - val_loss: 0.2529 - val_acc: 0.9058\n",
      "Epoch 9/30\n",
      "48000/48000 [==============================] - 11s 237us/step - loss: 0.2427 - acc: 0.9104 - val_loss: 0.2466 - val_acc: 0.9091\n",
      "Epoch 10/30\n",
      "48000/48000 [==============================] - 11s 237us/step - loss: 0.2353 - acc: 0.9135 - val_loss: 0.2485 - val_acc: 0.9109\n",
      "Epoch 11/30\n",
      "48000/48000 [==============================] - 11s 235us/step - loss: 0.2283 - acc: 0.9153 - val_loss: 0.2304 - val_acc: 0.9139\n",
      "Epoch 12/30\n",
      "48000/48000 [==============================] - 11s 237us/step - loss: 0.2243 - acc: 0.9160 - val_loss: 0.2239 - val_acc: 0.9197\n",
      "Epoch 13/30\n",
      "48000/48000 [==============================] - 11s 233us/step - loss: 0.2191 - acc: 0.9187 - val_loss: 0.2352 - val_acc: 0.9163\n",
      "Epoch 14/30\n",
      "48000/48000 [==============================] - 11s 233us/step - loss: 0.2145 - acc: 0.9204 - val_loss: 0.2302 - val_acc: 0.9163\n",
      "Epoch 15/30\n",
      "48000/48000 [==============================] - 11s 238us/step - loss: 0.2125 - acc: 0.9216 - val_loss: 0.2317 - val_acc: 0.9157\n"
     ]
    }
   ],
   "source": [
    "Mod=model.fit(x_train,y_train,batch_size=32,epochs=30,callbacks=Early,verbose=1,validation_split=0.2)"
   ]
  },
  {
   "cell_type": "code",
   "execution_count": 21,
   "metadata": {},
   "outputs": [],
   "source": [
    "import matplotlib.pyplot as plt\n"
   ]
  },
  {
   "cell_type": "code",
   "execution_count": 22,
   "metadata": {},
   "outputs": [
    {
     "data": {
      "image/png": "[encoded data removed]",
      "text/plain": [
       "<Figure size 432x288 with 1 Axes>"
      ]
     },
     "metadata": {
      "needs_background": "light"
     },
     "output_type": "display_data"
    }
   ],
   "source": [
    "plt.plot(Mod.history['acc'])\n",
    "plt.plot(Mod.history['val_acc'])\n",
    "plt.title('Model accuracy')\n",
    "plt.ylabel('accuracy')\n",
    "plt.xlabel('epoch')\n",
    "plt.legend(['train', 'test'], loc='upper left')\n",
    "plt.show()"
   ]
  },
  {
   "cell_type": "code",
   "execution_count": 39,
   "metadata": {},
   "outputs": [],
   "source": [
    "Classes=model.predict_classes(x_test)"
   ]
  },
  {
   "cell_type": "code",
   "execution_count": 27,
   "metadata": {},
   "outputs": [
    {
     "data": {
      "text/plain": [
       "(60000, 28, 28, 1)"
      ]
     },
     "execution_count": 27,
     "metadata": {},
     "output_type": "execute_result"
    }
   ],
   "source": [
    "x_train.shape"
   ]
  },
  {
   "cell_type": "code",
   "execution_count": 53,
   "metadata": {},
   "outputs": [
    {
     "name": "stdout",
     "output_type": "stream",
     "text": [
      "2\n"
     ]
    },
    {
     "data": {
      "image/png": "[encoded data removed]",
      "text/plain": [
       "<Figure size 432x288 with 1 Axes>"
      ]
     },
     "metadata": {
      "needs_background": "light"
     },
     "output_type": "display_data"
    }
   ],
   "source": [
    "plt.imshow(x_test[1].reshape(28,28))\n",
    "print(Classes[1])"
   ]
  },
  {
   "cell_type": "code",
   "execution_count": 38,
   "metadata": {},
   "outputs": [
    {
     "ename": "TypeError",
     "evalue": "get_file() missing 2 required positional arguments: 'fname' and 'origin'",
     "output_type": "error",
     "traceback": [
      "\u001b[1;31m---------------------------------------------------------------------------\u001b[0m",
      "\u001b[1;31mTypeError\u001b[0m                                 Traceback (most recent call last)",
      "\u001b[1;32m<ipython-input-38-1492a9afc2d8>\u001b[0m in \u001b[0;36m<module>\u001b[1;34m\u001b[0m\n\u001b[1;32m----> 1\u001b[1;33m \u001b[0mfashion_mnist\u001b[0m\u001b[1;33m.\u001b[0m\u001b[0mget_file\u001b[0m\u001b[1;33m(\u001b[0m\u001b[1;33m)\u001b[0m\u001b[1;33m\u001b[0m\u001b[1;33m\u001b[0m\u001b[0m\n\u001b[0m",
      "\u001b[1;31mTypeError\u001b[0m: get_file() missing 2 required positional arguments: 'fname' and 'origin'"
     ]
    }
   ],
   "source": [
    "fashion_mnist.get_file()"
   ]
  },
  {
   "cell_type": "code",
   "execution_count": null,
   "metadata": {},
   "outputs": [],
   "source": []
  }
 ],
 "metadata": {
  "kernelspec": {
   "display_name": "Python 3",
   "language": "python",
   "name": "python3"
  },
  "language_info": {
   "codemirror_mode": {
    "name": "ipython",
    "version": 3
   },
   "file_extension": ".py",
   "mimetype": "text/x-python",
   "name": "python",
   "nbconvert_exporter": "python",
   "pygments_lexer": "ipython3",
   "version": "3.6.7"
  }
 },
 "nbformat": 4,
 "nbformat_minor": 2
}
